{
 "cells": [
  {
   "cell_type": "code",
   "execution_count": 2,
   "metadata": {},
   "outputs": [
    {
     "name": "stdout",
     "output_type": "stream",
     "text": [
      "\n",
      "The most active user in the group is  Saksham Bansal  who have sent  141 mesaages\n",
      "\n",
      "The least active user in the group is  Pradnya Praxis  who have sent  1 mesaages\n"
     ]
    }
   ],
   "source": [
    "import os\n",
    "os.chdir('C:\\\\Users\\\\Rohit\\\\Desktop')\n",
    "file = open(\"Chat.txt\",encoding = \"utf8\")\n",
    "type(file)\n",
    "name = []\n",
    "for line in file:\n",
    "    line = line.strip()\n",
    "    nameS = line.find(\"- \")+2\n",
    "    nameE = line.find(\": \")\n",
    "    if nameS != 1 and nameE != -1 :\n",
    "        name.append(line[nameS:nameE])\n",
    "#print(name)\n",
    "name1 = []\n",
    "while \"\" in name:\n",
    "    name.remove(\"\")\n",
    "for i in name:\n",
    "    if i not in name1:\n",
    "        name1.append(i)\n",
    "#print(name1)\n",
    "#print(len(name))\n",
    "max = 0\n",
    "min = 900\n",
    "for i in name1:\n",
    "    count = 0\n",
    "    for j in name:\n",
    "        if i == j:\n",
    "            count += 1\n",
    "            if max <= count:\n",
    "                max = count\n",
    "                maxname=j\n",
    "            if min >= count:\n",
    "                min = count\n",
    "                minname=j\n",
    "    #print(i,count)\n",
    "print(\"\\nThe most active user in the group is \",maxname,\" who have sent \",max,\"mesaages\")\n",
    "print(\"\\nThe least active user in the group is \",minname,\" who have sent \",min,\"mesaages\")   "
   ]
  },
  {
   "cell_type": "code",
   "execution_count": null,
   "metadata": {},
   "outputs": [],
   "source": []
  }
 ],
 "metadata": {
  "kernelspec": {
   "display_name": "Python 3",
   "language": "python",
   "name": "python3"
  },
  "language_info": {
   "codemirror_mode": {
    "name": "ipython",
    "version": 3
   },
   "file_extension": ".py",
   "mimetype": "text/x-python",
   "name": "python",
   "nbconvert_exporter": "python",
   "pygments_lexer": "ipython3",
   "version": "3.8.5"
  }
 },
 "nbformat": 4,
 "nbformat_minor": 4
}
